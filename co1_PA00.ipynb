{
  "nbformat": 4,
  "nbformat_minor": 0,
  "metadata": {
    "colab": {
      "name": "co1_PA00",
      "provenance": [],
      "collapsed_sections": [],
      "authorship_tag": "ABX9TyPtmDTP+HBkgSnoog/uhVl8",
      "include_colab_link": true
    },
    "kernelspec": {
      "name": "python3",
      "display_name": "Python 3"
    }
  },
  "cells": [
    {
      "cell_type": "markdown",
      "metadata": {
        "id": "view-in-github",
        "colab_type": "text"
      },
      "source": [
        "<a href=\"https://colab.research.google.com/github/angelina-fr/angelina-fr/blob/master/co1_PA00.ipynb\" target=\"_parent\"><img src=\"https://colab.research.google.com/assets/colab-badge.svg\" alt=\"Open In Colab\"/></a>"
      ]
    },
    {
      "cell_type": "code",
      "metadata": {
        "id": "KigjKl4ceKGS",
        "outputId": "1cad01ce-135d-494c-8317-f3076654c681",
        "colab": {
          "base_uri": "https://localhost:8080/"
        }
      },
      "source": [
        "def funktion():\n",
        "    summe = 0\n",
        "    for i in range (1000):\n",
        "        if i%6 == 0 and i%15 == 0 :\n",
        "            summe = summe+i     \n",
        "    return summe\n",
        "print(funktion())\n"
      ],
      "execution_count": null,
      "outputs": [
        {
          "output_type": "stream",
          "text": [
            "16830\n"
          ],
          "name": "stdout"
        }
      ]
    }
  ]
}